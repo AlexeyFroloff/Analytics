{
  "nbformat": 4,
  "nbformat_minor": 0,
  "metadata": {
    "colab": {
      "provenance": [],
      "collapsed_sections": [
        "yIaHb8DCbIiP",
        "kjZUe-TIQSHl",
        "ELSnh0ijS2f0",
        "nyYUHtoEbfFd",
        "uh2soYpTvUBt",
        "NXZyKXfGhrHZ"
      ]
    },
    "kernelspec": {
      "name": "python3",
      "display_name": "Python 3"
    },
    "language_info": {
      "name": "python"
    }
  },
  "cells": [
    {
      "cell_type": "markdown",
      "source": [
        "# **Сколько клиентов посещает сайт** #"
      ],
      "metadata": {
        "id": "yIaHb8DCbIiP"
      }
    },
    {
      "cell_type": "code",
      "execution_count": null,
      "metadata": {
        "id": "h5z-w3UU4Sg8"
      },
      "outputs": [],
      "source": [
        "import psycopg2\n",
        "import pandas as pd"
      ]
    },
    {
      "cell_type": "code",
      "source": [
        "import psycopg2\n",
        "\n",
        "connection = psycopg2.connect(\n",
        "    database='postgres',\n",
        "    user='student',\n",
        "    password='JvLda93aA',\n",
        "    host='158.160.52.106',\n",
        "    port=5432,\n",
        ")\n"
      ],
      "metadata": {
        "id": "B2qaTfK24ysH"
      },
      "execution_count": null,
      "outputs": []
    },
    {
      "cell_type": "code",
      "source": [
        "cursor = connection.cursor()\n",
        "cursor.execute(\"select * from msu_analytics.client\")\n",
        "result = cursor.fetchall()\n",
        "client = pd.DataFrame(result)"
      ],
      "metadata": {
        "id": "1UmYi-5M8Xq2"
      },
      "execution_count": null,
      "outputs": []
    },
    {
      "cell_type": "code",
      "source": [
        "print(client)"
      ],
      "metadata": {
        "colab": {
          "base_uri": "https://localhost:8080/"
        },
        "id": "19rSpVzt9pOA",
        "outputId": "e9e013ce-4f99-4979-f6e8-766c860e02fc"
      },
      "execution_count": null,
      "outputs": [
        {
          "output_type": "stream",
          "name": "stdout",
          "text": [
            "         0          1          2             3                          4\n",
            "0       16   Мальвина    Ширяева  +79644269012 2023-02-01 03:22:06.635814\n",
            "1       80        Дан     Чернов  +79678859364 2022-11-23 19:27:02.644454\n",
            "2       96   Вениамин      Шаров  +79633834041 2022-10-08 05:18:55.902724\n",
            "3      144    Валерия   Кошелева  +79661419813 2023-01-08 17:15:49.079516\n",
            "4      267      Ирина    Хохлова  +79024071127 2022-11-16 17:26:44.455402\n",
            "...    ...        ...        ...           ...                        ...\n",
            "4091  4070  Валентина  Дорофеева  +79535334798 2022-11-01 16:04:30.776913\n",
            "4092  4086     Таисия    Брагина  +79081928229 2023-01-09 18:16:56.335184\n",
            "4093     3       Рада    Брагина  +79679692717 2022-09-25 21:18:23.734588\n",
            "4094    19    Гавриил     Носков  +79631292633 2022-12-24 15:35:01.842392\n",
            "4095    35       Клим   Ларионов  +79086551042 2023-01-07 21:51:34.847748\n",
            "\n",
            "[4096 rows x 5 columns]\n"
          ]
        }
      ]
    },
    {
      "cell_type": "code",
      "source": [
        "text = \"SELECT date_part('year', c.visit_dttm) as YEAR, date_part('month', c.visit_dttm) as MONTH, COUNT(c.client_rk) from msu_analytics.client c \\\n",
        "GROUP BY date_part('year', c.visit_dttm), date_part('month', c.visit_dttm) \\\n",
        "ORDER BY Year, Month;\""
      ],
      "metadata": {
        "id": "PpCD2rifCrDo"
      },
      "execution_count": null,
      "outputs": []
    },
    {
      "cell_type": "code",
      "source": [
        "connection = psycopg2.connect(\n",
        "    database='postgres',\n",
        "    user='student',\n",
        "    password='JvLda93aA',\n",
        "    host='158.160.52.106',\n",
        "    port=5432,\n",
        ")\n",
        "cursor = connection.cursor()\n",
        "cursor.execute(text)\n",
        "result = cursor.fetchall()\n",
        "client = pd.DataFrame(result)"
      ],
      "metadata": {
        "id": "JVA_LRMm_jys"
      },
      "execution_count": null,
      "outputs": []
    },
    {
      "cell_type": "code",
      "source": [
        "result"
      ],
      "metadata": {
        "colab": {
          "base_uri": "https://localhost:8080/"
        },
        "id": "QW-APBsPPvky",
        "outputId": "8b5e47bc-078e-4f55-a9a0-78cd2247a1fd"
      },
      "execution_count": null,
      "outputs": [
        {
          "output_type": "execute_result",
          "data": {
            "text/plain": [
              "[(2022.0, 9.0, 778),\n",
              " (2022.0, 10.0, 843),\n",
              " (2022.0, 11.0, 786),\n",
              " (2022.0, 12.0, 805),\n",
              " (2023.0, 1.0, 852),\n",
              " (2023.0, 2.0, 32)]"
            ]
          },
          "metadata": {},
          "execution_count": 20
        }
      ]
    },
    {
      "cell_type": "code",
      "source": [
        "visM = pd.DataFrame(result)\n",
        "visM"
      ],
      "metadata": {
        "colab": {
          "base_uri": "https://localhost:8080/",
          "height": 301
        },
        "id": "dIkwrxq_BbUH",
        "outputId": "bd8c6ad3-9ee6-41a0-e142-f22930beecf3"
      },
      "execution_count": null,
      "outputs": [
        {
          "output_type": "execute_result",
          "data": {
            "text/plain": [
              "        0     1    2\n",
              "0  2022.0   9.0  778\n",
              "1  2022.0  10.0  843\n",
              "2  2022.0  11.0  786\n",
              "3  2022.0  12.0  805\n",
              "4  2023.0   1.0  852\n",
              "5  2023.0   2.0   32"
            ],
            "text/html": [
              "\n",
              "  <div id=\"df-7e689b5e-cb65-47f8-ac68-03a66b69f7a5\">\n",
              "    <div class=\"colab-df-container\">\n",
              "      <div>\n",
              "<style scoped>\n",
              "    .dataframe tbody tr th:only-of-type {\n",
              "        vertical-align: middle;\n",
              "    }\n",
              "\n",
              "    .dataframe tbody tr th {\n",
              "        vertical-align: top;\n",
              "    }\n",
              "\n",
              "    .dataframe thead th {\n",
              "        text-align: right;\n",
              "    }\n",
              "</style>\n",
              "<table border=\"1\" class=\"dataframe\">\n",
              "  <thead>\n",
              "    <tr style=\"text-align: right;\">\n",
              "      <th></th>\n",
              "      <th>0</th>\n",
              "      <th>1</th>\n",
              "      <th>2</th>\n",
              "    </tr>\n",
              "  </thead>\n",
              "  <tbody>\n",
              "    <tr>\n",
              "      <th>0</th>\n",
              "      <td>2022.0</td>\n",
              "      <td>9.0</td>\n",
              "      <td>778</td>\n",
              "    </tr>\n",
              "    <tr>\n",
              "      <th>1</th>\n",
              "      <td>2022.0</td>\n",
              "      <td>10.0</td>\n",
              "      <td>843</td>\n",
              "    </tr>\n",
              "    <tr>\n",
              "      <th>2</th>\n",
              "      <td>2022.0</td>\n",
              "      <td>11.0</td>\n",
              "      <td>786</td>\n",
              "    </tr>\n",
              "    <tr>\n",
              "      <th>3</th>\n",
              "      <td>2022.0</td>\n",
              "      <td>12.0</td>\n",
              "      <td>805</td>\n",
              "    </tr>\n",
              "    <tr>\n",
              "      <th>4</th>\n",
              "      <td>2023.0</td>\n",
              "      <td>1.0</td>\n",
              "      <td>852</td>\n",
              "    </tr>\n",
              "    <tr>\n",
              "      <th>5</th>\n",
              "      <td>2023.0</td>\n",
              "      <td>2.0</td>\n",
              "      <td>32</td>\n",
              "    </tr>\n",
              "  </tbody>\n",
              "</table>\n",
              "</div>\n",
              "      <button class=\"colab-df-convert\" onclick=\"convertToInteractive('df-7e689b5e-cb65-47f8-ac68-03a66b69f7a5')\"\n",
              "              title=\"Convert this dataframe to an interactive table.\"\n",
              "              style=\"display:none;\">\n",
              "        \n",
              "  <svg xmlns=\"http://www.w3.org/2000/svg\" height=\"24px\"viewBox=\"0 0 24 24\"\n",
              "       width=\"24px\">\n",
              "    <path d=\"M0 0h24v24H0V0z\" fill=\"none\"/>\n",
              "    <path d=\"M18.56 5.44l.94 2.06.94-2.06 2.06-.94-2.06-.94-.94-2.06-.94 2.06-2.06.94zm-11 1L8.5 8.5l.94-2.06 2.06-.94-2.06-.94L8.5 2.5l-.94 2.06-2.06.94zm10 10l.94 2.06.94-2.06 2.06-.94-2.06-.94-.94-2.06-.94 2.06-2.06.94z\"/><path d=\"M17.41 7.96l-1.37-1.37c-.4-.4-.92-.59-1.43-.59-.52 0-1.04.2-1.43.59L10.3 9.45l-7.72 7.72c-.78.78-.78 2.05 0 2.83L4 21.41c.39.39.9.59 1.41.59.51 0 1.02-.2 1.41-.59l7.78-7.78 2.81-2.81c.8-.78.8-2.07 0-2.86zM5.41 20L4 18.59l7.72-7.72 1.47 1.35L5.41 20z\"/>\n",
              "  </svg>\n",
              "      </button>\n",
              "      \n",
              "  <style>\n",
              "    .colab-df-container {\n",
              "      display:flex;\n",
              "      flex-wrap:wrap;\n",
              "      gap: 12px;\n",
              "    }\n",
              "\n",
              "    .colab-df-convert {\n",
              "      background-color: #E8F0FE;\n",
              "      border: none;\n",
              "      border-radius: 50%;\n",
              "      cursor: pointer;\n",
              "      display: none;\n",
              "      fill: #1967D2;\n",
              "      height: 32px;\n",
              "      padding: 0 0 0 0;\n",
              "      width: 32px;\n",
              "    }\n",
              "\n",
              "    .colab-df-convert:hover {\n",
              "      background-color: #E2EBFA;\n",
              "      box-shadow: 0px 1px 2px rgba(60, 64, 67, 0.3), 0px 1px 3px 1px rgba(60, 64, 67, 0.15);\n",
              "      fill: #174EA6;\n",
              "    }\n",
              "\n",
              "    [theme=dark] .colab-df-convert {\n",
              "      background-color: #3B4455;\n",
              "      fill: #D2E3FC;\n",
              "    }\n",
              "\n",
              "    [theme=dark] .colab-df-convert:hover {\n",
              "      background-color: #434B5C;\n",
              "      box-shadow: 0px 1px 3px 1px rgba(0, 0, 0, 0.15);\n",
              "      filter: drop-shadow(0px 1px 2px rgba(0, 0, 0, 0.3));\n",
              "      fill: #FFFFFF;\n",
              "    }\n",
              "  </style>\n",
              "\n",
              "      <script>\n",
              "        const buttonEl =\n",
              "          document.querySelector('#df-7e689b5e-cb65-47f8-ac68-03a66b69f7a5 button.colab-df-convert');\n",
              "        buttonEl.style.display =\n",
              "          google.colab.kernel.accessAllowed ? 'block' : 'none';\n",
              "\n",
              "        async function convertToInteractive(key) {\n",
              "          const element = document.querySelector('#df-7e689b5e-cb65-47f8-ac68-03a66b69f7a5');\n",
              "          const dataTable =\n",
              "            await google.colab.kernel.invokeFunction('convertToInteractive',\n",
              "                                                     [key], {});\n",
              "          if (!dataTable) return;\n",
              "\n",
              "          const docLinkHtml = 'Like what you see? Visit the ' +\n",
              "            '<a target=\"_blank\" href=https://colab.research.google.com/notebooks/data_table.ipynb>data table notebook</a>'\n",
              "            + ' to learn more about interactive tables.';\n",
              "          element.innerHTML = '';\n",
              "          dataTable['output_type'] = 'display_data';\n",
              "          await google.colab.output.renderOutput(dataTable, element);\n",
              "          const docLink = document.createElement('div');\n",
              "          docLink.innerHTML = docLinkHtml;\n",
              "          element.appendChild(docLink);\n",
              "        }\n",
              "      </script>\n",
              "    </div>\n",
              "  </div>\n",
              "  "
            ]
          },
          "metadata": {},
          "execution_count": 21
        }
      ]
    },
    {
      "cell_type": "code",
      "source": [
        "from datetime import datetime\n",
        "\n",
        "visM[0] = list(map(int, list(visM[0])))\n",
        "visM[1] = list(map(int, list(visM[1])))\n",
        "\n",
        "\n",
        "date = visM[[0, 1]]\n",
        "date.columns = [\"year\", \"month\"]\n",
        "date[\"day\"] = [1]*date.shape[0]\n",
        "visM.index = pd.to_datetime(date)\n",
        "visM = visM.drop(0, axis = 1).drop(1, axis = 1)\n",
        "visM.columns = [[\"count\"]]\n",
        "visM"
      ],
      "metadata": {
        "colab": {
          "base_uri": "https://localhost:8080/",
          "height": 405
        },
        "id": "u5YiXw_XDkpg",
        "outputId": "d288bcd5-46dd-4a85-be07-5890a7a30157"
      },
      "execution_count": null,
      "outputs": [
        {
          "output_type": "execute_result",
          "data": {
            "text/plain": [
              "           count\n",
              "2022-09-01   778\n",
              "2022-10-01   843\n",
              "2022-11-01   786\n",
              "2022-12-01   805\n",
              "2023-01-01   852\n",
              "2023-02-01    32"
            ],
            "text/html": [
              "\n",
              "  <div id=\"df-95d1bfec-5766-40ac-aa49-01cce100d1b1\">\n",
              "    <div class=\"colab-df-container\">\n",
              "      <div>\n",
              "<style scoped>\n",
              "    .dataframe tbody tr th:only-of-type {\n",
              "        vertical-align: middle;\n",
              "    }\n",
              "\n",
              "    .dataframe tbody tr th {\n",
              "        vertical-align: top;\n",
              "    }\n",
              "\n",
              "    .dataframe thead tr th {\n",
              "        text-align: left;\n",
              "    }\n",
              "</style>\n",
              "<table border=\"1\" class=\"dataframe\">\n",
              "  <thead>\n",
              "    <tr>\n",
              "      <th></th>\n",
              "      <th>count</th>\n",
              "    </tr>\n",
              "  </thead>\n",
              "  <tbody>\n",
              "    <tr>\n",
              "      <th>2022-09-01</th>\n",
              "      <td>778</td>\n",
              "    </tr>\n",
              "    <tr>\n",
              "      <th>2022-10-01</th>\n",
              "      <td>843</td>\n",
              "    </tr>\n",
              "    <tr>\n",
              "      <th>2022-11-01</th>\n",
              "      <td>786</td>\n",
              "    </tr>\n",
              "    <tr>\n",
              "      <th>2022-12-01</th>\n",
              "      <td>805</td>\n",
              "    </tr>\n",
              "    <tr>\n",
              "      <th>2023-01-01</th>\n",
              "      <td>852</td>\n",
              "    </tr>\n",
              "    <tr>\n",
              "      <th>2023-02-01</th>\n",
              "      <td>32</td>\n",
              "    </tr>\n",
              "  </tbody>\n",
              "</table>\n",
              "</div>\n",
              "      <button class=\"colab-df-convert\" onclick=\"convertToInteractive('df-95d1bfec-5766-40ac-aa49-01cce100d1b1')\"\n",
              "              title=\"Convert this dataframe to an interactive table.\"\n",
              "              style=\"display:none;\">\n",
              "        \n",
              "  <svg xmlns=\"http://www.w3.org/2000/svg\" height=\"24px\"viewBox=\"0 0 24 24\"\n",
              "       width=\"24px\">\n",
              "    <path d=\"M0 0h24v24H0V0z\" fill=\"none\"/>\n",
              "    <path d=\"M18.56 5.44l.94 2.06.94-2.06 2.06-.94-2.06-.94-.94-2.06-.94 2.06-2.06.94zm-11 1L8.5 8.5l.94-2.06 2.06-.94-2.06-.94L8.5 2.5l-.94 2.06-2.06.94zm10 10l.94 2.06.94-2.06 2.06-.94-2.06-.94-.94-2.06-.94 2.06-2.06.94z\"/><path d=\"M17.41 7.96l-1.37-1.37c-.4-.4-.92-.59-1.43-.59-.52 0-1.04.2-1.43.59L10.3 9.45l-7.72 7.72c-.78.78-.78 2.05 0 2.83L4 21.41c.39.39.9.59 1.41.59.51 0 1.02-.2 1.41-.59l7.78-7.78 2.81-2.81c.8-.78.8-2.07 0-2.86zM5.41 20L4 18.59l7.72-7.72 1.47 1.35L5.41 20z\"/>\n",
              "  </svg>\n",
              "      </button>\n",
              "      \n",
              "  <style>\n",
              "    .colab-df-container {\n",
              "      display:flex;\n",
              "      flex-wrap:wrap;\n",
              "      gap: 12px;\n",
              "    }\n",
              "\n",
              "    .colab-df-convert {\n",
              "      background-color: #E8F0FE;\n",
              "      border: none;\n",
              "      border-radius: 50%;\n",
              "      cursor: pointer;\n",
              "      display: none;\n",
              "      fill: #1967D2;\n",
              "      height: 32px;\n",
              "      padding: 0 0 0 0;\n",
              "      width: 32px;\n",
              "    }\n",
              "\n",
              "    .colab-df-convert:hover {\n",
              "      background-color: #E2EBFA;\n",
              "      box-shadow: 0px 1px 2px rgba(60, 64, 67, 0.3), 0px 1px 3px 1px rgba(60, 64, 67, 0.15);\n",
              "      fill: #174EA6;\n",
              "    }\n",
              "\n",
              "    [theme=dark] .colab-df-convert {\n",
              "      background-color: #3B4455;\n",
              "      fill: #D2E3FC;\n",
              "    }\n",
              "\n",
              "    [theme=dark] .colab-df-convert:hover {\n",
              "      background-color: #434B5C;\n",
              "      box-shadow: 0px 1px 3px 1px rgba(0, 0, 0, 0.15);\n",
              "      filter: drop-shadow(0px 1px 2px rgba(0, 0, 0, 0.3));\n",
              "      fill: #FFFFFF;\n",
              "    }\n",
              "  </style>\n",
              "\n",
              "      <script>\n",
              "        const buttonEl =\n",
              "          document.querySelector('#df-95d1bfec-5766-40ac-aa49-01cce100d1b1 button.colab-df-convert');\n",
              "        buttonEl.style.display =\n",
              "          google.colab.kernel.accessAllowed ? 'block' : 'none';\n",
              "\n",
              "        async function convertToInteractive(key) {\n",
              "          const element = document.querySelector('#df-95d1bfec-5766-40ac-aa49-01cce100d1b1');\n",
              "          const dataTable =\n",
              "            await google.colab.kernel.invokeFunction('convertToInteractive',\n",
              "                                                     [key], {});\n",
              "          if (!dataTable) return;\n",
              "\n",
              "          const docLinkHtml = 'Like what you see? Visit the ' +\n",
              "            '<a target=\"_blank\" href=https://colab.research.google.com/notebooks/data_table.ipynb>data table notebook</a>'\n",
              "            + ' to learn more about interactive tables.';\n",
              "          element.innerHTML = '';\n",
              "          dataTable['output_type'] = 'display_data';\n",
              "          await google.colab.output.renderOutput(dataTable, element);\n",
              "          const docLink = document.createElement('div');\n",
              "          docLink.innerHTML = docLinkHtml;\n",
              "          element.appendChild(docLink);\n",
              "        }\n",
              "      </script>\n",
              "    </div>\n",
              "  </div>\n",
              "  "
            ]
          },
          "metadata": {},
          "execution_count": 22
        }
      ]
    },
    {
      "cell_type": "code",
      "source": [
        "from matplotlib import pyplot as plt\n",
        "\n",
        "plt.plot(visM)"
      ],
      "metadata": {
        "colab": {
          "base_uri": "https://localhost:8080/",
          "height": 141
        },
        "id": "gihl5fLuNxQi",
        "outputId": "55acc73a-2c08-461c-e64f-82eab80b0237"
      },
      "execution_count": null,
      "outputs": [
        {
          "output_type": "execute_result",
          "data": {
            "text/plain": [
              "[<matplotlib.lines.Line2D at 0x7ff91bc063d0>]"
            ]
          },
          "metadata": {},
          "execution_count": 23
        },
        {
          "output_type": "display_data",
          "data": {
            "text/plain": [
              "<Figure size 640x480 with 1 Axes>"
            ],
            "image/png": "[encoded data removed]"
          },
          "metadata": {}
        }
      ]
    },
    {
      "cell_type": "markdown",
      "source": [
        "# **По неделям** #"
      ],
      "metadata": {
        "id": "kjZUe-TIQSHl"
      }
    },
    {
      "cell_type": "code",
      "source": [
        "connection = psycopg2.connect(\n",
        "    database='postgres',\n",
        "    user='student',\n",
        "    password='JvLda93aA',\n",
        "    host='158.160.52.106',\n",
        "    port=5432,\n",
        ")\n",
        "\n",
        "cursor = connection.cursor()\n",
        "cursor.execute(\"select * from msu_analytics.client\")\n",
        "result = cursor.fetchall()\n",
        "client = pd.DataFrame(result)\n",
        "\n",
        "text = \"SELECT date_part('year', c.visit_dttm) as YEAR, date_part('week', c.visit_dttm) as WEEK, COUNT(c.client_rk) from msu_analytics.client c \\\n",
        "GROUP BY date_part('year', c.visit_dttm), date_part('week', c.visit_dttm) \\\n",
        "ORDER BY Year, WEEK;\"\n",
        "\n",
        "connection = psycopg2.connect(\n",
        "    database='postgres',\n",
        "    user='student',\n",
        "    password='JvLda93aA',\n",
        "    host='158.160.52.106',\n",
        "    port=5432,\n",
        ")\n",
        "\n",
        "cursor = connection.cursor()\n",
        "cursor.execute(text)\n",
        "result = cursor.fetchall()\n",
        "client = pd.DataFrame(result)"
      ],
      "metadata": {
        "id": "WUGSFuLfPAiC"
      },
      "execution_count": null,
      "outputs": []
    },
    {
      "cell_type": "code",
      "source": [
        "result"
      ],
      "metadata": {
        "colab": {
          "base_uri": "https://localhost:8080/"
        },
        "id": "LhmwwiMvdq3-",
        "outputId": "698dce52-2029-46d2-c251-8c902830a6e6"
      },
      "execution_count": null,
      "outputs": [
        {
          "output_type": "execute_result",
          "data": {
            "text/plain": [
              "[(2022.0, 35.0, 111),\n",
              " (2022.0, 36.0, 184),\n",
              " (2022.0, 37.0, 167),\n",
              " (2022.0, 38.0, 181),\n",
              " (2022.0, 39.0, 195),\n",
              " (2022.0, 40.0, 204),\n",
              " (2022.0, 41.0, 190),\n",
              " (2022.0, 42.0, 171),\n",
              " (2022.0, 43.0, 189),\n",
              " (2022.0, 44.0, 197),\n",
              " (2022.0, 45.0, 173),\n",
              " (2022.0, 46.0, 179),\n",
              " (2022.0, 47.0, 180),\n",
              " (2022.0, 48.0, 177),\n",
              " (2022.0, 49.0, 168),\n",
              " (2022.0, 50.0, 196),\n",
              " (2022.0, 51.0, 192),\n",
              " (2022.0, 52.0, 158),\n",
              " (2023.0, 1.0, 201),\n",
              " (2023.0, 2.0, 205),\n",
              " (2023.0, 3.0, 181),\n",
              " (2023.0, 4.0, 182),\n",
              " (2023.0, 5.0, 81),\n",
              " (2023.0, 52.0, 34)]"
            ]
          },
          "metadata": {},
          "execution_count": 25
        }
      ]
    },
    {
      "cell_type": "code",
      "source": [
        "visW = pd.DataFrame(result)\n",
        "\n",
        "from datetime import datetime\n",
        "\n",
        "visW[0] = list(map(int, list(visW[0])))\n",
        "visW[1] = list(map(int, list(visW[1])))\n",
        "\n",
        "visW[0] = list(map(str, list(visW[0])))\n",
        "visW[1] = list(map(str, list(visW[1])))\n",
        "\n",
        "visW.index = visW[0] + '-' + visW[1]\n",
        "\n",
        "visW = visW.drop(0, axis = 1).drop(1, axis = 1)\n",
        "visW.columns = [[\"count\"]]\n",
        "visW\n",
        "\n",
        "from matplotlib import pyplot as plt\n",
        "\n",
        "plt.plot(visW)\n",
        "\n",
        "plt.xticks(visW.index[::3], rotation=45)"
      ],
      "metadata": {
        "id": "JznEUAmWQqOH",
        "colab": {
          "base_uri": "https://localhost:8080/",
          "height": 1000
        },
        "outputId": "887e88ff-1342-41e3-ef18-81d0012e9e24"
      },
      "execution_count": null,
      "outputs": [
        {
          "output_type": "execute_result",
          "data": {
            "text/plain": [
              "([<matplotlib.axis.XTick at 0x7ff915ace4c0>,\n",
              "  <matplotlib.axis.XTick at 0x7ff915ace490>,\n",
              "  <matplotlib.axis.XTick at 0x7ff9130f2190>,\n",
              "  <matplotlib.axis.XTick at 0x7ff9130ffc40>,\n",
              "  <matplotlib.axis.XTick at 0x7ff91310a730>,\n",
              "  <matplotlib.axis.XTick at 0x7ff913112220>,\n",
              "  <matplotlib.axis.XTick at 0x7ff91310aa90>,\n",
              "  <matplotlib.axis.XTick at 0x7ff913112f10>],\n",
              " [Text(0.0, 0, '2022-35'),\n",
              "  Text(3.0, 0, '2022-38'),\n",
              "  Text(6.0, 0, '2022-41'),\n",
              "  Text(9.0, 0, '2022-44'),\n",
              "  Text(12.0, 0, '2022-47'),\n",
              "  Text(15.0, 0, '2022-50'),\n",
              "  Text(18.0, 0, '2023-1'),\n",
              "  Text(21.0, 0, '2023-4')])"
            ]
          },
          "metadata": {},
          "execution_count": 26
        },
        {
          "output_type": "display_data",
          "data": {
            "text/plain": [
              "<Figure size 640x480 with 1 Axes>"
            ],
            "image/png": "[encoded data removed]"
          },
          "metadata": {}
        }
      ]
    },
    {
      "cell_type": "markdown",
      "source": [
        "# **Регистрируется на нем** #"
      ],
      "metadata": {
        "id": "ELSnh0ijS2f0"
      }
    },
    {
      "cell_type": "code",
      "source": [
        "connection = psycopg2.connect(\n",
        "    database='postgres',\n",
        "    user='student',\n",
        "    password='JvLda93aA',\n",
        "    host='158.160.52.106',\n",
        "    port=5432,\n",
        ")\n",
        "\n",
        "cursor = connection.cursor()\n",
        "cursor.execute(\"select * from msu_analytics.client\")\n",
        "result = cursor.fetchall()\n",
        "client = pd.DataFrame(result)\n",
        "\n",
        "text = \"SELECT date_part('year', a.registration_dttm) as YEAR, date_part('month', a.registration_dttm) as MONTH, COUNT(a.client_rk) from msu_analytics.account a \\\n",
        "GROUP BY date_part('year', a.registration_dttm), date_part('month', a.registration_dttm) \\\n",
        "ORDER BY Year, Month\"\n",
        "\n",
        "connection = psycopg2.connect(\n",
        "    database='postgres',\n",
        "    user='student',\n",
        "    password='JvLda93aA',\n",
        "    host='158.160.52.106',\n",
        "    port=5432,\n",
        ")\n",
        "\n",
        "cursor = connection.cursor()\n",
        "cursor.execute(text)\n",
        "result = cursor.fetchall()\n",
        "client = pd.DataFrame(result)\n",
        "\n",
        "regM = pd.DataFrame(result)\n",
        "\n",
        "from datetime import datetime\n",
        "\n",
        "regM[0] = list(map(int, list(regM[0])))\n",
        "regM[1] = list(map(int, list(regM[1])))\n",
        "\n",
        "\n",
        "date = regM[[0, 1]]\n",
        "date.columns = [\"year\", \"month\"]\n",
        "date[\"day\"] = [1]*date.shape[0]\n",
        "regM.index = pd.to_datetime(date)\n",
        "regM = regM.drop(0, axis = 1).drop(1, axis = 1)\n",
        "regM.columns = [[\"count\"]]\n",
        "\n",
        "from matplotlib import pyplot as plt\n",
        "\n",
        "plt.plot(regM)\n"
      ],
      "metadata": {
        "id": "mZo3S4pvS4f3",
        "colab": {
          "base_uri": "https://localhost:8080/",
          "height": 141
        },
        "outputId": "feed7bc6-ed64-45b3-f3ec-891cfe46b931"
      },
      "execution_count": null,
      "outputs": [
        {
          "output_type": "execute_result",
          "data": {
            "text/plain": [
              "[<matplotlib.lines.Line2D at 0x7ff915a74760>]"
            ]
          },
          "metadata": {},
          "execution_count": 27
        },
        {
          "output_type": "display_data",
          "data": {
            "text/plain": [
              "<Figure size 640x480 with 1 Axes>"
            ],
            "image/png": "[encoded data removed]"
          },
          "metadata": {}
        }
      ]
    },
    {
      "cell_type": "markdown",
      "source": [
        "# **Подает заявку на игру** #"
      ],
      "metadata": {
        "id": "nyYUHtoEbfFd"
      }
    },
    {
      "cell_type": "code",
      "source": [
        "connection = psycopg2.connect(\n",
        "    database='postgres',\n",
        "    user='student',\n",
        "    password='JvLda93aA',\n",
        "    host='158.160.52.106',\n",
        "    port=5432,\n",
        ")\n",
        "\n",
        "cursor = connection.cursor()\n",
        "cursor.execute(\"select * from msu_analytics.application\")\n",
        "result = cursor.fetchall()\n",
        "client = pd.DataFrame(result)\n",
        "\n",
        "text = \"SELECT date_part('year', a.application_dttm) as YEAR, date_part('month', a.application_dttm) as MONTH, COUNT(a.account_rk) from msu_analytics.application a \\\n",
        "GROUP BY date_part('year', a.application_dttm), date_part('month', a.application_dttm) \\\n",
        "ORDER BY Year, Month\"\n",
        "\n",
        "connection = psycopg2.connect(\n",
        "    database='postgres',\n",
        "    user='student',\n",
        "    password='JvLda93aA',\n",
        "    host='158.160.52.106',\n",
        "    port=5432,\n",
        ")\n",
        "\n",
        "cursor = connection.cursor()\n",
        "cursor.execute(text)\n",
        "result = cursor.fetchall()\n",
        "client = pd.DataFrame(result)\n",
        "\n",
        "appM = pd.DataFrame(result)\n",
        "\n",
        "from datetime import datetime\n",
        "\n",
        "appM[0] = list(map(int, list(appM[0])))\n",
        "appM[1] = list(map(int, list(appM[1])))\n",
        "\n",
        "\n",
        "date = appM[[0, 1]]\n",
        "date.columns = [\"year\", \"month\"]\n",
        "date[\"day\"] = [1]*date.shape[0]\n",
        "appM.index = pd.to_datetime(date)\n",
        "appM = appM.drop(0, axis = 1).drop(1, axis = 1)\n",
        "appM.columns = [[\"count\"]]\n",
        "\n",
        "from matplotlib import pyplot as plt\n",
        "plt.plot(visM)"
      ],
      "metadata": {
        "id": "1i1UiKTKVCa7",
        "colab": {
          "base_uri": "https://localhost:8080/",
          "height": 141
        },
        "outputId": "24dfb73a-bb64-42bb-95d0-04e68f7cb6cf"
      },
      "execution_count": null,
      "outputs": [
        {
          "output_type": "execute_result",
          "data": {
            "text/plain": [
              "[<matplotlib.lines.Line2D at 0x7ff9130e4490>]"
            ]
          },
          "metadata": {},
          "execution_count": 28
        },
        {
          "output_type": "display_data",
          "data": {
            "text/plain": [
              "<Figure size 640x480 with 1 Axes>"
            ],
            "image/png": "[encoded data removed]"
          },
          "metadata": {}
        }
      ]
    },
    {
      "cell_type": "markdown",
      "source": [],
      "metadata": {
        "id": "A7llSXDWbj9L"
      }
    },
    {
      "cell_type": "code",
      "source": [
        "connection = psycopg2.connect(\n",
        "    database='postgres',\n",
        "    user='student',\n",
        "    password='JvLda93aA',\n",
        "    host='158.160.52.106',\n",
        "    port=5432,\n",
        ")\n",
        "\n",
        "cursor = connection.cursor()\n",
        "cursor.execute(\"select * from msu_analytics.client\")\n",
        "result = cursor.fetchall()\n",
        "client = pd.DataFrame(result)\n",
        "\n",
        "text = \"SELECT date_part('year', a.registration_dttm) as YEAR, date_part('week', a.registration_dttm) as WEEK, COUNT(a.client_rk) from msu_analytics.account a \\\n",
        "GROUP BY date_part('year', a.registration_dttm), date_part('week', a.registration_dttm) \\\n",
        "ORDER BY Year, WEEK;\"\n",
        "\n",
        "connection = psycopg2.connect(\n",
        "    database='postgres',\n",
        "    user='student',\n",
        "    password='JvLda93aA',\n",
        "    host='158.160.52.106',\n",
        "    port=5432,\n",
        ")\n",
        "\n",
        "cursor = connection.cursor()\n",
        "cursor.execute(text)\n",
        "result = cursor.fetchall()\n",
        "client = pd.DataFrame(result)\n",
        "\n",
        "regW = pd.DataFrame(result)\n",
        "\n",
        "from datetime import datetime\n",
        "\n",
        "regW[0] = list(map(int, list(regW[0])))\n",
        "regW[1] = list(map(int, list(regW[1])))\n",
        "\n",
        "regW[0] = list(map(str, list(regW[0])))\n",
        "regW[1] = list(map(str, list(regW[1])))\n",
        "\n",
        "regW.index = regW[0] + '-' + regW[1]\n",
        "\n",
        "regW = regW.drop(0, axis = 1).drop(1, axis = 1)\n",
        "regW.columns = [[\"count\"]]"
      ],
      "metadata": {
        "id": "db9466h4Vyru"
      },
      "execution_count": null,
      "outputs": []
    },
    {
      "cell_type": "code",
      "source": [
        "connection = psycopg2.connect(\n",
        "    database='postgres',\n",
        "    user='student',\n",
        "    password='JvLda93aA',\n",
        "    host='158.160.52.106',\n",
        "    port=5432,\n",
        ")\n",
        "\n",
        "cursor = connection.cursor()\n",
        "cursor.execute(\"select * from msu_analytics.client\")\n",
        "result = cursor.fetchall()\n",
        "client = pd.DataFrame(result)\n",
        "\n",
        "text = \"SELECT date_part('year', a.application_dttm) as YEAR, date_part('week', a.application_dttm) as WEEK, COUNT(a.account_rk) from msu_analytics.application a \\\n",
        "GROUP BY date_part('year', a.application_dttm), date_part('week', a.application_dttm) \\\n",
        "ORDER BY Year, WEEK;\"\n",
        "\n",
        "connection = psycopg2.connect(\n",
        "    database='postgres',\n",
        "    user='student',\n",
        "    password='JvLda93aA',\n",
        "    host='158.160.52.106',\n",
        "    port=5432,\n",
        ")\n",
        "\n",
        "cursor = connection.cursor()\n",
        "cursor.execute(text)\n",
        "result = cursor.fetchall()\n",
        "client = pd.DataFrame(result)\n",
        "\n",
        "appW = pd.DataFrame(result)\n",
        "\n",
        "from datetime import datetime\n",
        "\n",
        "appW[0] = list(map(int, list(appW[0])))\n",
        "appW[1] = list(map(int, list(appW[1])))\n",
        "\n",
        "appW[0] = list(map(str, list(appW[0])))\n",
        "appW[1] = list(map(str, list(appW[1])))\n",
        "\n",
        "appW.index = appW[0] + '-' + appW[1]\n",
        "\n",
        "appW = appW.drop(0, axis = 1).drop(1, axis = 1)\n",
        "\n",
        "appW.columns = [[\"count\"]]\n",
        "appW\n",
        "\n",
        "from matplotlib import pyplot as plt\n",
        "plt.plot(appW)\n",
        "\n",
        "plt.xticks(appW.index[::3], rotation=45)\n",
        "\n"
      ],
      "metadata": {
        "id": "n56k9Dr_YbDW",
        "colab": {
          "base_uri": "https://localhost:8080/",
          "height": 1000
        },
        "outputId": "ff602c8a-8745-4a3b-de8a-2c5f6f5bc1c7"
      },
      "execution_count": null,
      "outputs": [
        {
          "output_type": "execute_result",
          "data": {
            "text/plain": [
              "([<matplotlib.axis.XTick at 0x7ff915b13820>,\n",
              "  <matplotlib.axis.XTick at 0x7ff915b137f0>,\n",
              "  <matplotlib.axis.XTick at 0x7ff915b13070>,\n",
              "  <matplotlib.axis.XTick at 0x7ff912f7cf70>,\n",
              "  <matplotlib.axis.XTick at 0x7ff912f89a60>,\n",
              "  <matplotlib.axis.XTick at 0x7ff912f90550>,\n",
              "  <matplotlib.axis.XTick at 0x7ff912f90ca0>,\n",
              "  <matplotlib.axis.XTick at 0x7ff912f90a90>],\n",
              " [Text(0.0, 0, '2022-36'),\n",
              "  Text(3.0, 0, '2022-39'),\n",
              "  Text(6.0, 0, '2022-42'),\n",
              "  Text(9.0, 0, '2022-45'),\n",
              "  Text(12.0, 0, '2022-48'),\n",
              "  Text(15.0, 0, '2022-51'),\n",
              "  Text(18.0, 0, '2023-2'),\n",
              "  Text(21.0, 0, '2023-5')])"
            ]
          },
          "metadata": {},
          "execution_count": 30
        },
        {
          "output_type": "display_data",
          "data": {
            "text/plain": [
              "<Figure size 640x480 with 1 Axes>"
            ],
            "image/png": "[encoded data removed]"
          },
          "metadata": {}
        }
      ]
    },
    {
      "cell_type": "markdown",
      "source": [
        "# **Приходит на игру** #"
      ],
      "metadata": {
        "id": "uh2soYpTvUBt"
      }
    },
    {
      "cell_type": "code",
      "source": [
        "connection = psycopg2.connect(\n",
        "    database='postgres',\n",
        "    user='student',\n",
        "    password='JvLda93aA',\n",
        "    host='158.160.52.106',\n",
        "    port=5432,\n",
        ")\n",
        "\n",
        "cursor = connection.cursor()\n",
        "cursor.execute(\"select * from msu_analytics.client\")\n",
        "result = cursor.fetchall()\n",
        "client = pd.DataFrame(result)\n",
        "\n",
        "text = \"SELECT date_part('year', a.application_dttm) as YEAR, date_part('week', a.application_dttm) as WEEK, COUNT(a.account_rk) \\\n",
        "from (select * from msu_analytics.application a \\\n",
        "inner join (select * from msu_analytics.game g where g.game_flg = 1) g \\\n",
        "on a.game_rk = g.game_rk) a \\\n",
        "GROUP BY date_part('year', a.application_dttm), date_part('week', a.application_dttm) \\\n",
        "ORDER BY Year, WEEK;\"\n",
        "\n",
        "connection = psycopg2.connect(\n",
        "    database='postgres',\n",
        "    user='student',\n",
        "    password='JvLda93aA',\n",
        "    host='158.160.52.106',\n",
        "    port=5432,\n",
        ")\n",
        "\n",
        "cursor = connection.cursor()\n",
        "cursor.execute(text)\n",
        "result = cursor.fetchall()\n",
        "client = pd.DataFrame(result)\n",
        "\n",
        "gamW = pd.DataFrame(result)\n",
        "\n",
        "from datetime import datetime\n",
        "\n",
        "gamW[0] = list(map(int, list(gamW[0])))\n",
        "gamW[1] = list(map(int, list(gamW[1])))\n",
        "\n",
        "gamW[0] = list(map(str, list(gamW[0])))\n",
        "gamW[1] = list(map(str, list(gamW[1])))\n",
        "\n",
        "gamW.index = gamW[0] + '-' + gamW[1]\n",
        "\n",
        "gamW = gamW.drop(0, axis = 1).drop(1, axis = 1)\n",
        "\n",
        "gamW.columns = [[\"count\"]]\n",
        "\n",
        "from matplotlib import pyplot as plt\n",
        "plt.plot(visW)\n",
        "plt.plot(appW)\n",
        "plt.plot(regW)\n",
        "plt.plot(gamW)\n",
        "\n",
        "plt.xticks(appW.index[::3], rotation=45)"
      ],
      "metadata": {
        "id": "THV8_3Bfwk2L",
        "colab": {
          "base_uri": "https://localhost:8080/",
          "height": 742
        },
        "outputId": "1154a03a-0464-4813-c82b-fd6f992c999d"
      },
      "execution_count": null,
      "outputs": [
        {
          "output_type": "execute_result",
          "data": {
            "text/plain": [
              "([<matplotlib.axis.XTick at 0x7ff9130635e0>,\n",
              "  <matplotlib.axis.XTick at 0x7ff9130635b0>,\n",
              "  <matplotlib.axis.XTick at 0x7ff91304ed90>,\n",
              "  <matplotlib.axis.XTick at 0x7ff912f13580>,\n",
              "  <matplotlib.axis.XTick at 0x7ff912f13cd0>,\n",
              "  <matplotlib.axis.XTick at 0x7ff912f138e0>,\n",
              "  <matplotlib.axis.XTick at 0x7ff912f17cd0>,\n",
              "  <matplotlib.axis.XTick at 0x7ff912f1db20>],\n",
              " [Text(1.0, 0, '2022-36'),\n",
              "  Text(4.0, 0, '2022-39'),\n",
              "  Text(7.0, 0, '2022-42'),\n",
              "  Text(10.0, 0, '2022-45'),\n",
              "  Text(13.0, 0, '2022-48'),\n",
              "  Text(16.0, 0, '2022-51'),\n",
              "  Text(19.0, 0, '2023-2'),\n",
              "  Text(22.0, 0, '2023-5')])"
            ]
          },
          "metadata": {},
          "execution_count": 31
        },
        {
          "output_type": "display_data",
          "data": {
            "text/plain": [
              "<Figure size 640x480 with 1 Axes>"
            ],
            "image/png": "[encoded data removed]"
          },
          "metadata": {}
        }
      ]
    },
    {
      "cell_type": "code",
      "source": [
        "connection = psycopg2.connect(\n",
        "    database='postgres',\n",
        "    user='student',\n",
        "    password='JvLda93aA',\n",
        "    host='158.160.52.106',\n",
        "    port=5432,\n",
        ")\n",
        "\n",
        "cursor = connection.cursor()\n",
        "cursor.execute(\"select * from msu_analytics.application\")\n",
        "result = cursor.fetchall()\n",
        "client = pd.DataFrame(result)\n",
        "\n",
        "text = \"SELECT date_part('year', a.application_dttm) as YEAR, date_part('month', a.application_dttm) as MONTH, COUNT(a.account_rk) \\\n",
        "from (select * from msu_analytics.application a \\\n",
        "inner join (select * from msu_analytics.game g where g.game_flg = 1) g \\\n",
        "on a.game_rk = g.game_rk) a \\\n",
        "GROUP BY date_part('year', a.application_dttm), date_part('month', a.application_dttm) \\\n",
        "ORDER BY Year, Month\"\n",
        "\n",
        "connection = psycopg2.connect(\n",
        "    database='postgres',\n",
        "    user='student',\n",
        "    password='JvLda93aA',\n",
        "    host='158.160.52.106',\n",
        "    port=5432,\n",
        ")\n",
        "\n",
        "cursor = connection.cursor()\n",
        "cursor.execute(text)\n",
        "result = cursor.fetchall()\n",
        "client = pd.DataFrame(result)\n",
        "\n",
        "gamM = pd.DataFrame(result)\n",
        "print(gamM)\n",
        "from datetime import datetime\n",
        "\n",
        "gamM[0] = list(map(int, list(gamM[0])))\n",
        "gamM[1] = list(map(int, list(gamM[1])))\n",
        "\n",
        "date = gamM[[0, 1]]\n",
        "date.columns = [\"year\", \"month\"]\n",
        "date[\"day\"] = [1]*date.shape[0]\n",
        "gamM.index = pd.to_datetime(date)\n",
        "gamM = gamM.drop(0, axis = 1).drop(1, axis = 1)\n",
        "gamM.columns = [[\"count\"]]\n",
        "\n",
        "from matplotlib import pyplot as plt\n",
        "\n",
        "plt.plot(appM)\n",
        "plt.plot(regM)\n",
        "plt.plot(visM)\n",
        "plt.plot(gamM)"
      ],
      "metadata": {
        "id": "_qavmkyevPKg",
        "colab": {
          "base_uri": "https://localhost:8080/",
          "height": 550
        },
        "outputId": "311b50e2-f3dd-4561-955b-27f0749a8d7b"
      },
      "execution_count": null,
      "outputs": [
        {
          "output_type": "stream",
          "name": "stdout",
          "text": [
            "        0     1   2\n",
            "0  2022.0   9.0  38\n",
            "1  2022.0  10.0  80\n",
            "2  2022.0  11.0  69\n",
            "3  2022.0  12.0  52\n",
            "4  2023.0   1.0  25\n"
          ]
        },
        {
          "output_type": "execute_result",
          "data": {
            "text/plain": [
              "[<matplotlib.lines.Line2D at 0x7ff912ee1cd0>]"
            ]
          },
          "metadata": {},
          "execution_count": 32
        },
        {
          "output_type": "display_data",
          "data": {
            "text/plain": [
              "<Figure size 640x480 with 1 Axes>"
            ],
            "image/png": "[encoded data removed]"
          },
          "metadata": {}
        }
      ]
    },
    {
      "cell_type": "code",
      "source": [],
      "metadata": {
        "id": "HafCCJJL1h5E"
      },
      "execution_count": null,
      "outputs": []
    },
    {
      "cell_type": "markdown",
      "source": [
        "# **Воронка** #"
      ],
      "metadata": {
        "id": "NXZyKXfGhrHZ"
      }
    },
    {
      "cell_type": "markdown",
      "source": [
        "**По месяцам**"
      ],
      "metadata": {
        "id": "sx8YaoHVoQtF"
      }
    },
    {
      "cell_type": "code",
      "source": [
        "import plotly.express as px\n",
        "print(\"Введите индекс месяца:\")\n",
        "for i in range(len(appM)-1):\n",
        "  print(appM.index[i].strftime(\"%Y-%m\"),\":\", i)\n",
        "i= int(input())\n",
        "\n",
        "data = dict(values=[visM.iloc[i][\"count\"], regM.iloc[i][\"count\"], appM.iloc[i][\"count\"], gamM.iloc[i][\"count\"]],\n",
        "\n",
        "            percentage = [\n",
        "                (str(int(visM.iloc[i][\"count\"]/visM.iloc[i][\"count\"]*100)))+\"%\",\n",
        "                 (str(int(regM.iloc[i][\"count\"]/visM.iloc[i][\"count\"]*100)))+\"%\",\n",
        "                  (str(int(appM.iloc[i][\"count\"]/visM.iloc[i][\"count\"]*100)))+\"%\",\n",
        "                   (str(int(gamM.iloc[i][\"count\"]/visM.iloc[i][\"count\"]*100)))+\"%\"],\n",
        "\n",
        "            labels=['Посещения сайта', 'Регистрация на сайте',\n",
        "                    'Подача заявок на игру', \"Пришли на игру\"])\n",
        "fig = px.funnel(data, y='labels', x='values', text = \"percentage\", title=str(appM.index[i].strftime(\"%Y-%m\")))\n",
        "fig.show()"
      ],
      "metadata": {
        "id": "MPeRF8Vea5Gc",
        "colab": {
          "base_uri": "https://localhost:8080/",
          "height": 664
        },
        "outputId": "c431ae14-4da0-4c4a-9bd4-c425072db229"
      },
      "execution_count": null,
      "outputs": [
        {
          "name": "stdout",
          "output_type": "stream",
          "text": [
            "Введите индекс месяца:\n",
            "2022-09 : 0\n",
            "2022-10 : 1\n",
            "2022-11 : 2\n",
            "2022-12 : 3\n",
            "2023-01 : 4\n",
            "2\n"
          ]
        },
        {
          "output_type": "display_data",
          "data": {
            "text/html": [
              "<html>\n",
              "<head><meta charset=\"utf-8\" /></head>\n",
              "<body>\n",
              "    <div>            <script src=\"https://cdnjs.cloudflare.com/ajax/libs/mathjax/2.7.5/MathJax.js?config=TeX-AMS-MML_SVG\"></script><script type=\"text/javascript\">if (window.MathJax && window.MathJax.Hub && window.MathJax.Hub.Config) {window.MathJax.Hub.Config({SVG: {font: \"STIX-Web\"}});}</script>                <script type=\"text/javascript\">window.PlotlyConfig = {MathJaxConfig: 'local'};</script>\n",
              "        <script src=\"https://cdn.plot.ly/plotly-2.18.2.min.js\"></script>                <div id=\"cfc025f5-0ce4-45dd-ab52-acd99ecb323e\" class=\"plotly-graph-div\" style=\"height:525px; width:100%;\"></div>            <script type=\"text/javascript\">                                    window.PLOTLYENV=window.PLOTLYENV || {};                                    if (document.getElementById(\"cfc025f5-0ce4-45dd-ab52-acd99ecb323e\")) {                    Plotly.newPlot(                        \"cfc025f5-0ce4-45dd-ab52-acd99ecb323e\",                        [{\"hovertemplate\":\"values=%{x}<br>labels=%{y}<br>percentage=%{text}<extra></extra>\",\"legendgroup\":\"\",\"marker\":{\"color\":\"#636efa\"},\"name\":\"\",\"orientation\":\"h\",\"showlegend\":false,\"text\":[\"100%\",\"24%\",\"13%\",\"8%\"],\"x\":[786,195,107,69],\"xaxis\":\"x\",\"y\":[\"\\u041f\\u043e\\u0441\\u0435\\u0449\\u0435\\u043d\\u0438\\u044f \\u0441\\u0430\\u0439\\u0442\\u0430\",\"\\u0420\\u0435\\u0433\\u0438\\u0441\\u0442\\u0440\\u0430\\u0446\\u0438\\u044f \\u043d\\u0430 \\u0441\\u0430\\u0439\\u0442\\u0435\",\"\\u041f\\u043e\\u0434\\u0430\\u0447\\u0430 \\u0437\\u0430\\u044f\\u0432\\u043e\\u043a \\u043d\\u0430 \\u0438\\u0433\\u0440\\u0443\",\"\\u041f\\u0440\\u0438\\u0448\\u043b\\u0438 \\u043d\\u0430 \\u0438\\u0433\\u0440\\u0443\"],\"yaxis\":\"y\",\"type\":\"funnel\"}],                        {\"template\":{\"data\":{\"histogram2dcontour\":[{\"type\":\"histogram2dcontour\",\"colorbar\":{\"outlinewidth\":0,\"ticks\":\"\"},\"colorscale\":[[0.0,\"#0d0887\"],[0.1111111111111111,\"#46039f\"],[0.2222222222222222,\"#7201a8\"],[0.3333333333333333,\"#9c179e\"],[0.4444444444444444,\"#bd3786\"],[0.5555555555555556,\"#d8576b\"],[0.6666666666666666,\"#ed7953\"],[0.7777777777777778,\"#fb9f3a\"],[0.8888888888888888,\"#fdca26\"],[1.0,\"#f0f921\"]]}],\"choropleth\":[{\"type\":\"choropleth\",\"colorbar\":{\"outlinewidth\":0,\"ticks\":\"\"}}],\"histogram2d\":[{\"type\":\"histogram2d\",\"colorbar\":{\"outlinewidth\":0,\"ticks\":\"\"},\"colorscale\":[[0.0,\"#0d0887\"],[0.1111111111111111,\"#46039f\"],[0.2222222222222222,\"#7201a8\"],[0.3333333333333333,\"#9c179e\"],[0.4444444444444444,\"#bd3786\"],[0.5555555555555556,\"#d8576b\"],[0.6666666666666666,\"#ed7953\"],[0.7777777777777778,\"#fb9f3a\"],[0.8888888888888888,\"#fdca26\"],[1.0,\"#f0f921\"]]}],\"heatmap\":[{\"type\":\"heatmap\",\"colorbar\":{\"outlinewidth\":0,\"ticks\":\"\"},\"colorscale\":[[0.0,\"#0d0887\"],[0.1111111111111111,\"#46039f\"],[0.2222222222222222,\"#7201a8\"],[0.3333333333333333,\"#9c179e\"],[0.4444444444444444,\"#bd3786\"],[0.5555555555555556,\"#d8576b\"],[0.6666666666666666,\"#ed7953\"],[0.7777777777777778,\"#fb9f3a\"],[0.8888888888888888,\"#fdca26\"],[1.0,\"#f0f921\"]]}],\"heatmapgl\":[{\"type\":\"heatmapgl\",\"colorbar\":{\"outlinewidth\":0,\"ticks\":\"\"},\"colorscale\":[[0.0,\"#0d0887\"],[0.1111111111111111,\"#46039f\"],[0.2222222222222222,\"#7201a8\"],[0.3333333333333333,\"#9c179e\"],[0.4444444444444444,\"#bd3786\"],[0.5555555555555556,\"#d8576b\"],[0.6666666666666666,\"#ed7953\"],[0.7777777777777778,\"#fb9f3a\"],[0.8888888888888888,\"#fdca26\"],[1.0,\"#f0f921\"]]}],\"contourcarpet\":[{\"type\":\"contourcarpet\",\"colorbar\":{\"outlinewidth\":0,\"ticks\":\"\"}}],\"contour\":[{\"type\":\"contour\",\"colorbar\":{\"outlinewidth\":0,\"ticks\":\"\"},\"colorscale\":[[0.0,\"#0d0887\"],[0.1111111111111111,\"#46039f\"],[0.2222222222222222,\"#7201a8\"],[0.3333333333333333,\"#9c179e\"],[0.4444444444444444,\"#bd3786\"],[0.5555555555555556,\"#d8576b\"],[0.6666666666666666,\"#ed7953\"],[0.7777777777777778,\"#fb9f3a\"],[0.8888888888888888,\"#fdca26\"],[1.0,\"#f0f921\"]]}],\"surface\":[{\"type\":\"surface\",\"colorbar\":{\"outlinewidth\":0,\"ticks\":\"\"},\"colorscale\":[[0.0,\"#0d0887\"],[0.1111111111111111,\"#46039f\"],[0.2222222222222222,\"#7201a8\"],[0.3333333333333333,\"#9c179e\"],[0.4444444444444444,\"#bd3786\"],[0.5555555555555556,\"#d8576b\"],[0.6666666666666666,\"#ed7953\"],[0.7777777777777778,\"#fb9f3a\"],[0.8888888888888888,\"#fdca26\"],[1.0,\"#f0f921\"]]}],\"mesh3d\":[{\"type\":\"mesh3d\",\"colorbar\":{\"outlinewidth\":0,\"ticks\":\"\"}}],\"scatter\":[{\"fillpattern\":{\"fillmode\":\"overlay\",\"size\":10,\"solidity\":0.2},\"type\":\"scatter\"}],\"parcoords\":[{\"type\":\"parcoords\",\"line\":{\"colorbar\":{\"outlinewidth\":0,\"ticks\":\"\"}}}],\"scatterpolargl\":[{\"type\":\"scatterpolargl\",\"marker\":{\"colorbar\":{\"outlinewidth\":0,\"ticks\":\"\"}}}],\"bar\":[{\"error_x\":{\"color\":\"#2a3f5f\"},\"error_y\":{\"color\":\"#2a3f5f\"},\"marker\":{\"line\":{\"color\":\"#E5ECF6\",\"width\":0.5},\"pattern\":{\"fillmode\":\"overlay\",\"size\":10,\"solidity\":0.2}},\"type\":\"bar\"}],\"scattergeo\":[{\"type\":\"scattergeo\",\"marker\":{\"colorbar\":{\"outlinewidth\":0,\"ticks\":\"\"}}}],\"scatterpolar\":[{\"type\":\"scatterpolar\",\"marker\":{\"colorbar\":{\"outlinewidth\":0,\"ticks\":\"\"}}}],\"histogram\":[{\"marker\":{\"pattern\":{\"fillmode\":\"overlay\",\"size\":10,\"solidity\":0.2}},\"type\":\"histogram\"}],\"scattergl\":[{\"type\":\"scattergl\",\"marker\":{\"colorbar\":{\"outlinewidth\":0,\"ticks\":\"\"}}}],\"scatter3d\":[{\"type\":\"scatter3d\",\"line\":{\"colorbar\":{\"outlinewidth\":0,\"ticks\":\"\"}},\"marker\":{\"colorbar\":{\"outlinewidth\":0,\"ticks\":\"\"}}}],\"scattermapbox\":[{\"type\":\"scattermapbox\",\"marker\":{\"colorbar\":{\"outlinewidth\":0,\"ticks\":\"\"}}}],\"scatterternary\":[{\"type\":\"scatterternary\",\"marker\":{\"colorbar\":{\"outlinewidth\":0,\"ticks\":\"\"}}}],\"scattercarpet\":[{\"type\":\"scattercarpet\",\"marker\":{\"colorbar\":{\"outlinewidth\":0,\"ticks\":\"\"}}}],\"carpet\":[{\"aaxis\":{\"endlinecolor\":\"#2a3f5f\",\"gridcolor\":\"white\",\"linecolor\":\"white\",\"minorgridcolor\":\"white\",\"startlinecolor\":\"#2a3f5f\"},\"baxis\":{\"endlinecolor\":\"#2a3f5f\",\"gridcolor\":\"white\",\"linecolor\":\"white\",\"minorgridcolor\":\"white\",\"startlinecolor\":\"#2a3f5f\"},\"type\":\"carpet\"}],\"table\":[{\"cells\":{\"fill\":{\"color\":\"#EBF0F8\"},\"line\":{\"color\":\"white\"}},\"header\":{\"fill\":{\"color\":\"#C8D4E3\"},\"line\":{\"color\":\"white\"}},\"type\":\"table\"}],\"barpolar\":[{\"marker\":{\"line\":{\"color\":\"#E5ECF6\",\"width\":0.5},\"pattern\":{\"fillmode\":\"overlay\",\"size\":10,\"solidity\":0.2}},\"type\":\"barpolar\"}],\"pie\":[{\"automargin\":true,\"type\":\"pie\"}]},\"layout\":{\"autotypenumbers\":\"strict\",\"colorway\":[\"#636efa\",\"#EF553B\",\"#00cc96\",\"#ab63fa\",\"#FFA15A\",\"#19d3f3\",\"#FF6692\",\"#B6E880\",\"#FF97FF\",\"#FECB52\"],\"font\":{\"color\":\"#2a3f5f\"},\"hovermode\":\"closest\",\"hoverlabel\":{\"align\":\"left\"},\"paper_bgcolor\":\"white\",\"plot_bgcolor\":\"#E5ECF6\",\"polar\":{\"bgcolor\":\"#E5ECF6\",\"angularaxis\":{\"gridcolor\":\"white\",\"linecolor\":\"white\",\"ticks\":\"\"},\"radialaxis\":{\"gridcolor\":\"white\",\"linecolor\":\"white\",\"ticks\":\"\"}},\"ternary\":{\"bgcolor\":\"#E5ECF6\",\"aaxis\":{\"gridcolor\":\"white\",\"linecolor\":\"white\",\"ticks\":\"\"},\"baxis\":{\"gridcolor\":\"white\",\"linecolor\":\"white\",\"ticks\":\"\"},\"caxis\":{\"gridcolor\":\"white\",\"linecolor\":\"white\",\"ticks\":\"\"}},\"coloraxis\":{\"colorbar\":{\"outlinewidth\":0,\"ticks\":\"\"}},\"colorscale\":{\"sequential\":[[0.0,\"#0d0887\"],[0.1111111111111111,\"#46039f\"],[0.2222222222222222,\"#7201a8\"],[0.3333333333333333,\"#9c179e\"],[0.4444444444444444,\"#bd3786\"],[0.5555555555555556,\"#d8576b\"],[0.6666666666666666,\"#ed7953\"],[0.7777777777777778,\"#fb9f3a\"],[0.8888888888888888,\"#fdca26\"],[1.0,\"#f0f921\"]],\"sequentialminus\":[[0.0,\"#0d0887\"],[0.1111111111111111,\"#46039f\"],[0.2222222222222222,\"#7201a8\"],[0.3333333333333333,\"#9c179e\"],[0.4444444444444444,\"#bd3786\"],[0.5555555555555556,\"#d8576b\"],[0.6666666666666666,\"#ed7953\"],[0.7777777777777778,\"#fb9f3a\"],[0.8888888888888888,\"#fdca26\"],[1.0,\"#f0f921\"]],\"diverging\":[[0,\"#8e0152\"],[0.1,\"#c51b7d\"],[0.2,\"#de77ae\"],[0.3,\"#f1b6da\"],[0.4,\"#fde0ef\"],[0.5,\"#f7f7f7\"],[0.6,\"#e6f5d0\"],[0.7,\"#b8e186\"],[0.8,\"#7fbc41\"],[0.9,\"#4d9221\"],[1,\"#276419\"]]},\"xaxis\":{\"gridcolor\":\"white\",\"linecolor\":\"white\",\"ticks\":\"\",\"title\":{\"standoff\":15},\"zerolinecolor\":\"white\",\"automargin\":true,\"zerolinewidth\":2},\"yaxis\":{\"gridcolor\":\"white\",\"linecolor\":\"white\",\"ticks\":\"\",\"title\":{\"standoff\":15},\"zerolinecolor\":\"white\",\"automargin\":true,\"zerolinewidth\":2},\"scene\":{\"xaxis\":{\"backgroundcolor\":\"#E5ECF6\",\"gridcolor\":\"white\",\"linecolor\":\"white\",\"showbackground\":true,\"ticks\":\"\",\"zerolinecolor\":\"white\",\"gridwidth\":2},\"yaxis\":{\"backgroundcolor\":\"#E5ECF6\",\"gridcolor\":\"white\",\"linecolor\":\"white\",\"showbackground\":true,\"ticks\":\"\",\"zerolinecolor\":\"white\",\"gridwidth\":2},\"zaxis\":{\"backgroundcolor\":\"#E5ECF6\",\"gridcolor\":\"white\",\"linecolor\":\"white\",\"showbackground\":true,\"ticks\":\"\",\"zerolinecolor\":\"white\",\"gridwidth\":2}},\"shapedefaults\":{\"line\":{\"color\":\"#2a3f5f\"}},\"annotationdefaults\":{\"arrowcolor\":\"#2a3f5f\",\"arrowhead\":0,\"arrowwidth\":1},\"geo\":{\"bgcolor\":\"white\",\"landcolor\":\"#E5ECF6\",\"subunitcolor\":\"white\",\"showland\":true,\"showlakes\":true,\"lakecolor\":\"white\"},\"title\":{\"x\":0.05},\"mapbox\":{\"style\":\"light\"}}},\"xaxis\":{\"anchor\":\"y\",\"domain\":[0.0,1.0],\"title\":{\"text\":\"values\"}},\"yaxis\":{\"anchor\":\"x\",\"domain\":[0.0,1.0],\"title\":{\"text\":\"labels\"}},\"legend\":{\"tracegroupgap\":0},\"title\":{\"text\":\"2022-11\"}},                        {\"responsive\": true}                    ).then(function(){\n",
              "                            \n",
              "var gd = document.getElementById('cfc025f5-0ce4-45dd-ab52-acd99ecb323e');\n",
              "var x = new MutationObserver(function (mutations, observer) {{\n",
              "        var display = window.getComputedStyle(gd).display;\n",
              "        if (!display || display === 'none') {{\n",
              "            console.log([gd, 'removed!']);\n",
              "            Plotly.purge(gd);\n",
              "            observer.disconnect();\n",
              "        }}\n",
              "}});\n",
              "\n",
              "// Listen for the removal of the full notebook cells\n",
              "var notebookContainer = gd.closest('#notebook-container');\n",
              "if (notebookContainer) {{\n",
              "    x.observe(notebookContainer, {childList: true});\n",
              "}}\n",
              "\n",
              "// Listen for the clearing of the current output cell\n",
              "var outputEl = gd.closest('.output');\n",
              "if (outputEl) {{\n",
              "    x.observe(outputEl, {childList: true});\n",
              "}}\n",
              "\n",
              "                        })                };                            </script>        </div>\n",
              "</body>\n",
              "</html>"
            ]
          },
          "metadata": {}
        }
      ]
    },
    {
      "cell_type": "markdown",
      "source": [
        "**По неделям**"
      ],
      "metadata": {
        "id": "PqHpplrtoUFP"
      }
    },
    {
      "cell_type": "code",
      "source": [
        "import plotly.express as px\n",
        "print(\"Введите индекс месяца:\")\n",
        "for i in range(len(appW)-1):\n",
        "  print(appW.index[i],\":\", i)\n",
        "i= int(input())\n",
        "\n",
        "data = dict(values=[visW.iloc[i][\"count\"], regW.iloc[i][\"count\"], appW.iloc[i][\"count\"], gamW.iloc[i][\"count\"]],\n",
        "\n",
        "            percentage = [\n",
        "                (str(int(visW.iloc[i][\"count\"]/visW.iloc[i][\"count\"]*100)))+\"%\",\n",
        "                 (str(int(regW.iloc[i][\"count\"]/visW.iloc[i][\"count\"]*100)))+\"%\",\n",
        "                  (str(int(appW.iloc[i][\"count\"]/visW.iloc[i][\"count\"]*100)))+\"%\",\n",
        "                   (str(int(gamW.iloc[i][\"count\"]/visW.iloc[i][\"count\"]*100)))+\"%\"],\n",
        "\n",
        "            labels=['Посещения сайта', 'Регистрация на сайте',\n",
        "                    'Подача заявок на игру', \"Пришли на игру\"])\n",
        "fig = px.funnel(data, y='labels', x='values', text = \"percentage\", title=str(appW.index[i]))\n",
        "fig.show()"
      ],
      "metadata": {
        "colab": {
          "base_uri": "https://localhost:8080/",
          "height": 958
        },
        "id": "DaHSS403gNPV",
        "outputId": "7f2ae25f-6fa4-4b7f-ba97-2ba85d8e064c"
      },
      "execution_count": null,
      "outputs": [
        {
          "name": "stdout",
          "output_type": "stream",
          "text": [
            "Введите индекс месяца:\n",
            "2022-36 : 0\n",
            "2022-37 : 1\n",
            "2022-38 : 2\n",
            "2022-39 : 3\n",
            "2022-40 : 4\n",
            "2022-41 : 5\n",
            "2022-42 : 6\n",
            "2022-43 : 7\n",
            "2022-44 : 8\n",
            "2022-45 : 9\n",
            "2022-46 : 10\n",
            "2022-47 : 11\n",
            "2022-48 : 12\n",
            "2022-49 : 13\n",
            "2022-50 : 14\n",
            "2022-51 : 15\n",
            "2022-52 : 16\n",
            "2023-1 : 17\n",
            "2023-2 : 18\n",
            "2023-3 : 19\n",
            "2023-4 : 20\n",
            "2023-5 : 21\n",
            "8\n"
          ]
        },
        {
          "output_type": "display_data",
          "data": {
            "text/html": [
              "<html>\n",
              "<head><meta charset=\"utf-8\" /></head>\n",
              "<body>\n",
              "    <div>            <script src=\"https://cdnjs.cloudflare.com/ajax/libs/mathjax/2.7.5/MathJax.js?config=TeX-AMS-MML_SVG\"></script><script type=\"text/javascript\">if (window.MathJax && window.MathJax.Hub && window.MathJax.Hub.Config) {window.MathJax.Hub.Config({SVG: {font: \"STIX-Web\"}});}</script>                <script type=\"text/javascript\">window.PlotlyConfig = {MathJaxConfig: 'local'};</script>\n",
              "        <script src=\"https://cdn.plot.ly/plotly-2.18.2.min.js\"></script>                <div id=\"1db9d46b-2b34-435d-b24e-9aa360d642a2\" class=\"plotly-graph-div\" style=\"height:525px; width:100%;\"></div>            <script type=\"text/javascript\">                                    window.PLOTLYENV=window.PLOTLYENV || {};                                    if (document.getElementById(\"1db9d46b-2b34-435d-b24e-9aa360d642a2\")) {                    Plotly.newPlot(                        \"1db9d46b-2b34-435d-b24e-9aa360d642a2\",                        [{\"hovertemplate\":\"values=%{x}<br>labels=%{y}<br>percentage=%{text}<extra></extra>\",\"legendgroup\":\"\",\"marker\":{\"color\":\"#636efa\"},\"name\":\"\",\"orientation\":\"h\",\"showlegend\":false,\"text\":[\"100%\",\"25%\",\"13%\",\"9%\"],\"x\":[189,48,25,18],\"xaxis\":\"x\",\"y\":[\"\\u041f\\u043e\\u0441\\u0435\\u0449\\u0435\\u043d\\u0438\\u044f \\u0441\\u0430\\u0439\\u0442\\u0430\",\"\\u0420\\u0435\\u0433\\u0438\\u0441\\u0442\\u0440\\u0430\\u0446\\u0438\\u044f \\u043d\\u0430 \\u0441\\u0430\\u0439\\u0442\\u0435\",\"\\u041f\\u043e\\u0434\\u0430\\u0447\\u0430 \\u0437\\u0430\\u044f\\u0432\\u043e\\u043a \\u043d\\u0430 \\u0438\\u0433\\u0440\\u0443\",\"\\u041f\\u0440\\u0438\\u0448\\u043b\\u0438 \\u043d\\u0430 \\u0438\\u0433\\u0440\\u0443\"],\"yaxis\":\"y\",\"type\":\"funnel\"}],                        {\"template\":{\"data\":{\"histogram2dcontour\":[{\"type\":\"histogram2dcontour\",\"colorbar\":{\"outlinewidth\":0,\"ticks\":\"\"},\"colorscale\":[[0.0,\"#0d0887\"],[0.1111111111111111,\"#46039f\"],[0.2222222222222222,\"#7201a8\"],[0.3333333333333333,\"#9c179e\"],[0.4444444444444444,\"#bd3786\"],[0.5555555555555556,\"#d8576b\"],[0.6666666666666666,\"#ed7953\"],[0.7777777777777778,\"#fb9f3a\"],[0.8888888888888888,\"#fdca26\"],[1.0,\"#f0f921\"]]}],\"choropleth\":[{\"type\":\"choropleth\",\"colorbar\":{\"outlinewidth\":0,\"ticks\":\"\"}}],\"histogram2d\":[{\"type\":\"histogram2d\",\"colorbar\":{\"outlinewidth\":0,\"ticks\":\"\"},\"colorscale\":[[0.0,\"#0d0887\"],[0.1111111111111111,\"#46039f\"],[0.2222222222222222,\"#7201a8\"],[0.3333333333333333,\"#9c179e\"],[0.4444444444444444,\"#bd3786\"],[0.5555555555555556,\"#d8576b\"],[0.6666666666666666,\"#ed7953\"],[0.7777777777777778,\"#fb9f3a\"],[0.8888888888888888,\"#fdca26\"],[1.0,\"#f0f921\"]]}],\"heatmap\":[{\"type\":\"heatmap\",\"colorbar\":{\"outlinewidth\":0,\"ticks\":\"\"},\"colorscale\":[[0.0,\"#0d0887\"],[0.1111111111111111,\"#46039f\"],[0.2222222222222222,\"#7201a8\"],[0.3333333333333333,\"#9c179e\"],[0.4444444444444444,\"#bd3786\"],[0.5555555555555556,\"#d8576b\"],[0.6666666666666666,\"#ed7953\"],[0.7777777777777778,\"#fb9f3a\"],[0.8888888888888888,\"#fdca26\"],[1.0,\"#f0f921\"]]}],\"heatmapgl\":[{\"type\":\"heatmapgl\",\"colorbar\":{\"outlinewidth\":0,\"ticks\":\"\"},\"colorscale\":[[0.0,\"#0d0887\"],[0.1111111111111111,\"#46039f\"],[0.2222222222222222,\"#7201a8\"],[0.3333333333333333,\"#9c179e\"],[0.4444444444444444,\"#bd3786\"],[0.5555555555555556,\"#d8576b\"],[0.6666666666666666,\"#ed7953\"],[0.7777777777777778,\"#fb9f3a\"],[0.8888888888888888,\"#fdca26\"],[1.0,\"#f0f921\"]]}],\"contourcarpet\":[{\"type\":\"contourcarpet\",\"colorbar\":{\"outlinewidth\":0,\"ticks\":\"\"}}],\"contour\":[{\"type\":\"contour\",\"colorbar\":{\"outlinewidth\":0,\"ticks\":\"\"},\"colorscale\":[[0.0,\"#0d0887\"],[0.1111111111111111,\"#46039f\"],[0.2222222222222222,\"#7201a8\"],[0.3333333333333333,\"#9c179e\"],[0.4444444444444444,\"#bd3786\"],[0.5555555555555556,\"#d8576b\"],[0.6666666666666666,\"#ed7953\"],[0.7777777777777778,\"#fb9f3a\"],[0.8888888888888888,\"#fdca26\"],[1.0,\"#f0f921\"]]}],\"surface\":[{\"type\":\"surface\",\"colorbar\":{\"outlinewidth\":0,\"ticks\":\"\"},\"colorscale\":[[0.0,\"#0d0887\"],[0.1111111111111111,\"#46039f\"],[0.2222222222222222,\"#7201a8\"],[0.3333333333333333,\"#9c179e\"],[0.4444444444444444,\"#bd3786\"],[0.5555555555555556,\"#d8576b\"],[0.6666666666666666,\"#ed7953\"],[0.7777777777777778,\"#fb9f3a\"],[0.8888888888888888,\"#fdca26\"],[1.0,\"#f0f921\"]]}],\"mesh3d\":[{\"type\":\"mesh3d\",\"colorbar\":{\"outlinewidth\":0,\"ticks\":\"\"}}],\"scatter\":[{\"fillpattern\":{\"fillmode\":\"overlay\",\"size\":10,\"solidity\":0.2},\"type\":\"scatter\"}],\"parcoords\":[{\"type\":\"parcoords\",\"line\":{\"colorbar\":{\"outlinewidth\":0,\"ticks\":\"\"}}}],\"scatterpolargl\":[{\"type\":\"scatterpolargl\",\"marker\":{\"colorbar\":{\"outlinewidth\":0,\"ticks\":\"\"}}}],\"bar\":[{\"error_x\":{\"color\":\"#2a3f5f\"},\"error_y\":{\"color\":\"#2a3f5f\"},\"marker\":{\"line\":{\"color\":\"#E5ECF6\",\"width\":0.5},\"pattern\":{\"fillmode\":\"overlay\",\"size\":10,\"solidity\":0.2}},\"type\":\"bar\"}],\"scattergeo\":[{\"type\":\"scattergeo\",\"marker\":{\"colorbar\":{\"outlinewidth\":0,\"ticks\":\"\"}}}],\"scatterpolar\":[{\"type\":\"scatterpolar\",\"marker\":{\"colorbar\":{\"outlinewidth\":0,\"ticks\":\"\"}}}],\"histogram\":[{\"marker\":{\"pattern\":{\"fillmode\":\"overlay\",\"size\":10,\"solidity\":0.2}},\"type\":\"histogram\"}],\"scattergl\":[{\"type\":\"scattergl\",\"marker\":{\"colorbar\":{\"outlinewidth\":0,\"ticks\":\"\"}}}],\"scatter3d\":[{\"type\":\"scatter3d\",\"line\":{\"colorbar\":{\"outlinewidth\":0,\"ticks\":\"\"}},\"marker\":{\"colorbar\":{\"outlinewidth\":0,\"ticks\":\"\"}}}],\"scattermapbox\":[{\"type\":\"scattermapbox\",\"marker\":{\"colorbar\":{\"outlinewidth\":0,\"ticks\":\"\"}}}],\"scatterternary\":[{\"type\":\"scatterternary\",\"marker\":{\"colorbar\":{\"outlinewidth\":0,\"ticks\":\"\"}}}],\"scattercarpet\":[{\"type\":\"scattercarpet\",\"marker\":{\"colorbar\":{\"outlinewidth\":0,\"ticks\":\"\"}}}],\"carpet\":[{\"aaxis\":{\"endlinecolor\":\"#2a3f5f\",\"gridcolor\":\"white\",\"linecolor\":\"white\",\"minorgridcolor\":\"white\",\"startlinecolor\":\"#2a3f5f\"},\"baxis\":{\"endlinecolor\":\"#2a3f5f\",\"gridcolor\":\"white\",\"linecolor\":\"white\",\"minorgridcolor\":\"white\",\"startlinecolor\":\"#2a3f5f\"},\"type\":\"carpet\"}],\"table\":[{\"cells\":{\"fill\":{\"color\":\"#EBF0F8\"},\"line\":{\"color\":\"white\"}},\"header\":{\"fill\":{\"color\":\"#C8D4E3\"},\"line\":{\"color\":\"white\"}},\"type\":\"table\"}],\"barpolar\":[{\"marker\":{\"line\":{\"color\":\"#E5ECF6\",\"width\":0.5},\"pattern\":{\"fillmode\":\"overlay\",\"size\":10,\"solidity\":0.2}},\"type\":\"barpolar\"}],\"pie\":[{\"automargin\":true,\"type\":\"pie\"}]},\"layout\":{\"autotypenumbers\":\"strict\",\"colorway\":[\"#636efa\",\"#EF553B\",\"#00cc96\",\"#ab63fa\",\"#FFA15A\",\"#19d3f3\",\"#FF6692\",\"#B6E880\",\"#FF97FF\",\"#FECB52\"],\"font\":{\"color\":\"#2a3f5f\"},\"hovermode\":\"closest\",\"hoverlabel\":{\"align\":\"left\"},\"paper_bgcolor\":\"white\",\"plot_bgcolor\":\"#E5ECF6\",\"polar\":{\"bgcolor\":\"#E5ECF6\",\"angularaxis\":{\"gridcolor\":\"white\",\"linecolor\":\"white\",\"ticks\":\"\"},\"radialaxis\":{\"gridcolor\":\"white\",\"linecolor\":\"white\",\"ticks\":\"\"}},\"ternary\":{\"bgcolor\":\"#E5ECF6\",\"aaxis\":{\"gridcolor\":\"white\",\"linecolor\":\"white\",\"ticks\":\"\"},\"baxis\":{\"gridcolor\":\"white\",\"linecolor\":\"white\",\"ticks\":\"\"},\"caxis\":{\"gridcolor\":\"white\",\"linecolor\":\"white\",\"ticks\":\"\"}},\"coloraxis\":{\"colorbar\":{\"outlinewidth\":0,\"ticks\":\"\"}},\"colorscale\":{\"sequential\":[[0.0,\"#0d0887\"],[0.1111111111111111,\"#46039f\"],[0.2222222222222222,\"#7201a8\"],[0.3333333333333333,\"#9c179e\"],[0.4444444444444444,\"#bd3786\"],[0.5555555555555556,\"#d8576b\"],[0.6666666666666666,\"#ed7953\"],[0.7777777777777778,\"#fb9f3a\"],[0.8888888888888888,\"#fdca26\"],[1.0,\"#f0f921\"]],\"sequentialminus\":[[0.0,\"#0d0887\"],[0.1111111111111111,\"#46039f\"],[0.2222222222222222,\"#7201a8\"],[0.3333333333333333,\"#9c179e\"],[0.4444444444444444,\"#bd3786\"],[0.5555555555555556,\"#d8576b\"],[0.6666666666666666,\"#ed7953\"],[0.7777777777777778,\"#fb9f3a\"],[0.8888888888888888,\"#fdca26\"],[1.0,\"#f0f921\"]],\"diverging\":[[0,\"#8e0152\"],[0.1,\"#c51b7d\"],[0.2,\"#de77ae\"],[0.3,\"#f1b6da\"],[0.4,\"#fde0ef\"],[0.5,\"#f7f7f7\"],[0.6,\"#e6f5d0\"],[0.7,\"#b8e186\"],[0.8,\"#7fbc41\"],[0.9,\"#4d9221\"],[1,\"#276419\"]]},\"xaxis\":{\"gridcolor\":\"white\",\"linecolor\":\"white\",\"ticks\":\"\",\"title\":{\"standoff\":15},\"zerolinecolor\":\"white\",\"automargin\":true,\"zerolinewidth\":2},\"yaxis\":{\"gridcolor\":\"white\",\"linecolor\":\"white\",\"ticks\":\"\",\"title\":{\"standoff\":15},\"zerolinecolor\":\"white\",\"automargin\":true,\"zerolinewidth\":2},\"scene\":{\"xaxis\":{\"backgroundcolor\":\"#E5ECF6\",\"gridcolor\":\"white\",\"linecolor\":\"white\",\"showbackground\":true,\"ticks\":\"\",\"zerolinecolor\":\"white\",\"gridwidth\":2},\"yaxis\":{\"backgroundcolor\":\"#E5ECF6\",\"gridcolor\":\"white\",\"linecolor\":\"white\",\"showbackground\":true,\"ticks\":\"\",\"zerolinecolor\":\"white\",\"gridwidth\":2},\"zaxis\":{\"backgroundcolor\":\"#E5ECF6\",\"gridcolor\":\"white\",\"linecolor\":\"white\",\"showbackground\":true,\"ticks\":\"\",\"zerolinecolor\":\"white\",\"gridwidth\":2}},\"shapedefaults\":{\"line\":{\"color\":\"#2a3f5f\"}},\"annotationdefaults\":{\"arrowcolor\":\"#2a3f5f\",\"arrowhead\":0,\"arrowwidth\":1},\"geo\":{\"bgcolor\":\"white\",\"landcolor\":\"#E5ECF6\",\"subunitcolor\":\"white\",\"showland\":true,\"showlakes\":true,\"lakecolor\":\"white\"},\"title\":{\"x\":0.05},\"mapbox\":{\"style\":\"light\"}}},\"xaxis\":{\"anchor\":\"y\",\"domain\":[0.0,1.0],\"title\":{\"text\":\"values\"}},\"yaxis\":{\"anchor\":\"x\",\"domain\":[0.0,1.0],\"title\":{\"text\":\"labels\"}},\"legend\":{\"tracegroupgap\":0},\"title\":{\"text\":\"2022-44\"}},                        {\"responsive\": true}                    ).then(function(){\n",
              "                            \n",
              "var gd = document.getElementById('1db9d46b-2b34-435d-b24e-9aa360d642a2');\n",
              "var x = new MutationObserver(function (mutations, observer) {{\n",
              "        var display = window.getComputedStyle(gd).display;\n",
              "        if (!display || display === 'none') {{\n",
              "            console.log([gd, 'removed!']);\n",
              "            Plotly.purge(gd);\n",
              "            observer.disconnect();\n",
              "        }}\n",
              "}});\n",
              "\n",
              "// Listen for the removal of the full notebook cells\n",
              "var notebookContainer = gd.closest('#notebook-container');\n",
              "if (notebookContainer) {{\n",
              "    x.observe(notebookContainer, {childList: true});\n",
              "}}\n",
              "\n",
              "// Listen for the clearing of the current output cell\n",
              "var outputEl = gd.closest('.output');\n",
              "if (outputEl) {{\n",
              "    x.observe(outputEl, {childList: true});\n",
              "}}\n",
              "\n",
              "                        })                };                            </script>        </div>\n",
              "</body>\n",
              "</html>"
            ]
          },
          "metadata": {}
        }
      ]
    },
    {
      "cell_type": "code",
      "source": [],
      "metadata": {
        "id": "RFiZNIQ2ojF2"
      },
      "execution_count": null,
      "outputs": []
    }
  ]
}