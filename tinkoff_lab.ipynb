{
  "nbformat": 4,
  "nbformat_minor": 0,
  "metadata": {
    "colab": {
      "provenance": []
    },
    "kernelspec": {
      "name": "python3",
      "display_name": "Python 3"
    },
    "language_info": {
      "name": "python"
    }
  },
  "cells": [
    {
      "cell_type": "markdown",
      "source": [
        "## Задача:\n",
        "\n",
        "Напиши функцию, которая принимает DataFrame со столбцами `month`, `country`, `salary` (месяц, страна, зарплата соответсвенно) и выводит DataFrame с ключем (month) и столбцами `Страна 1`, `Страна 2`, `Страна 3`... , в котором указана средняя зарплата в данные месяц в соответсвующей стране.\n",
        "\n",
        "**Пример:**\n",
        "\n",
        "Ввод:\n",
        "\n",
        "    month       |   country     |   salary\n",
        "    ---------------------------------------\n",
        "    '2023-01'   |   'UK'        |   1000\n",
        "    '2023-02'   |   'USA'       |   1500\n",
        "    '2023-02'   |   'USA'       |   1000\n",
        "    '2023-01'   |   'Hong Kong' |   1250\n",
        "    '2023-02'   |   'Hong Kong' |   1550\n",
        "\n",
        "Вывод:\n",
        "\n",
        "    month       |   UK      |   USA     | 'Hong Kong'\n",
        "    ------------------------------------------------\n",
        "    '2023-01'   |   1000    |   NaN     |   1250\n",
        "    '2023-02'   |   NaN     |   1250    |   1550\n"
      ],
      "metadata": {
        "id": "CZ70KW74mm85"
      }
    },
    {
      "cell_type": "code",
      "source": [
        "import pandas as pd\n",
        "import numpy as np\n",
        "\n",
        "data = pd.DataFrame({\n",
        "    \"month\" : ['2023-01', '2023-02', '2023-02', '2023-01', '2023-02'],\n",
        "    \"country\" : [\"UK\", \"USA\", \"USA\", \"Hong Kong\", \"Hong Kong\"],\n",
        "    \"salary\" : [1000, 1500, 1000, 1250, 1550]\n",
        "})\n",
        "\n",
        "months = pd.unique(data['month'])\n",
        "print(months)\n",
        "data_array = np.array(data)\n",
        "d  = dict()\n",
        "for i in range(len(data_array)):\n",
        "  if data_array[0] in\n",
        "\n",
        "def solve(data) -> pd.DataFrame:\n",
        "\n",
        "  return None\n",
        "\n",
        "solve(data)"
      ],
      "metadata": {
        "id": "dm1-Y64Imp3C",
        "colab": {
          "base_uri": "https://localhost:8080/"
        },
        "outputId": "cfef2b59-0250-4671-a52d-8df5ba5360af"
      },
      "execution_count": null,
      "outputs": [
        {
          "output_type": "stream",
          "name": "stdout",
          "text": [
            "['2023-01' '2023-02']\n",
            "[['2023-01' 'UK' 1000]\n",
            " ['2023-02' 'USA' 1500]\n",
            " ['2023-02' 'USA' 1000]\n",
            " ['2023-01' 'Hong Kong' 1250]\n",
            " ['2023-02' 'Hong Kong' 1550]]\n"
          ]
        }
      ]
    },
    {
      "cell_type": "code",
      "source": [],
      "metadata": {
        "id": "5C6-BNZSXO2J"
      },
      "execution_count": null,
      "outputs": []
    }
  ]
}